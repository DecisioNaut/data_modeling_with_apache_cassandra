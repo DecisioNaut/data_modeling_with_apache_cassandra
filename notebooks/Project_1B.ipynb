{
 "cells": [
  {
   "attachments": {},
   "cell_type": "markdown",
   "metadata": {},
   "source": [
    "# Data Modeling With Apache Cassandra\n",
    "***A Project in Course of Udacity's Nano-Degree for Data Engineering With AWS***\n",
    "\n",
    "## The Task\n",
    "***As provided by Udacity***\n",
    "\n",
    "A startup called Sparkify wants to analyze the data they've been collecting on songs and user activity on their new music streaming app. The analysis team is particularly interested in understanding what songs users are listening to. Currently, there is no easy way to query the data to generate the results, since the data reside in a directory of CSV files on user activity on the app.  \n",
    "\n",
    "They'd like a data engineer to create an Apache Cassandra database which can create queries on song play data to answer the questions, and wish to bring you on the project. Your role is to create a database for this analysis. You'll be able to test your database by running queries given to you by the analytics team from Sparkify to create the results.  \n",
    "\n",
    "Specifically, they'd like you to create tables in Apache Cassandra to run the following queries:\n",
    "1. Give me the artist, song title and song's length in the music app history that was heard during  sessionId = 338, and itemInSession  = 4\n",
    "2. Give me only the following: name of artist, song (sorted by itemInSession) and user (first and last name) for userid = 10, sessionid = 182\n",
    "3. Give me every user name (first and last) in my music app history who listened to the song 'All Hands Against His Own'  \n",
    "\n",
    "Udacity splits the project in two parts:\n",
    "Part 1: ETL Pipeline for Pre-Processing the Files\n",
    "Part II. Complete the Apache Cassandra coding portion of your project.\n",
    "\n",
    "For the sake of the reviewer, I stick to this division."
   ]
  },
  {
   "cell_type": "code",
   "execution_count": 1,
   "metadata": {},
   "outputs": [],
   "source": [
    "# Packages used\n",
    "# Standard packages\n",
    "from pathlib import Path\n",
    "\n",
    "# Third party packages\n",
    "from cassandra.cluster import Cluster\n",
    "\n",
    "# Local packages\n",
    "from src.preprocessing import preprocess_data\n",
    "\n",
    "# Auto-reload local packages\n",
    "%load_ext autoreload"
   ]
  },
  {
   "attachments": {},
   "cell_type": "markdown",
   "metadata": {},
   "source": [
    "## Part I: ETL Pipeline for Pre-Processing the Files\n",
    "\n",
    "We need to join the data from the csv-files into a single file, which we can use for our database.  \n",
    "\n",
    "The target structure is given by Udacity through this image:  \n",
    "\n",
    "<img src=\"../images/image_event_datafile_new.jpg\">\n",
    "\n",
    "The folder `event_data` holds the data in csv-files from `2018-11-01-events.csv` to `2018-11-30-events.csv` containing the following data (highlighted with `*` the ones we need):\n",
    "- artist `*`\n",
    "- auth\n",
    "- firstName `*`\n",
    "- gender `*`\n",
    "- itemInSession `*`\n",
    "- lastName `*`\n",
    "- length `*`\n",
    "- level `*`\n",
    "- location `*`\n",
    "- method\n",
    "- page\n",
    "- registration\n",
    "- sessionId `*`\n",
    "- song `*`\n",
    "- status\n",
    "- ts\n",
    "- userId `*`\n",
    "\n",
    "Furthermore, `artist` should not be an empty string."
   ]
  },
  {
   "cell_type": "code",
   "execution_count": 2,
   "metadata": {},
   "outputs": [],
   "source": [
    "# Global variables\n",
    "RAW_DATA_PATH = Path(\"../data/event_data\")\n",
    "PREPROCESS_DATA_PATH = Path(\"../data/preprocessed_data\")\n",
    "COLUMNS_TO_USE = [\n",
    "    \"userId\",\n",
    "    \"firstName\", \n",
    "    \"lastName\", \n",
    "    \"gender\", \n",
    "    \"location\", \n",
    "    \"level\", \n",
    "    \"sessionId\", \n",
    "    \"itemInSession\", \n",
    "    \"artist\", \n",
    "    \"song\", \n",
    "    \"length\", \n",
    "]"
   ]
  },
  {
   "cell_type": "code",
   "execution_count": 3,
   "metadata": {},
   "outputs": [
    {
     "data": {
      "text/html": [
       "<div>\n",
       "<style scoped>\n",
       "    .dataframe tbody tr th:only-of-type {\n",
       "        vertical-align: middle;\n",
       "    }\n",
       "\n",
       "    .dataframe tbody tr th {\n",
       "        vertical-align: top;\n",
       "    }\n",
       "\n",
       "    .dataframe thead th {\n",
       "        text-align: right;\n",
       "    }\n",
       "</style>\n",
       "<table border=\"1\" class=\"dataframe\">\n",
       "  <thead>\n",
       "    <tr style=\"text-align: right;\">\n",
       "      <th></th>\n",
       "      <th>userId</th>\n",
       "      <th>firstName</th>\n",
       "      <th>lastName</th>\n",
       "      <th>gender</th>\n",
       "      <th>location</th>\n",
       "      <th>level</th>\n",
       "      <th>sessionId</th>\n",
       "      <th>itemInSession</th>\n",
       "      <th>artist</th>\n",
       "      <th>song</th>\n",
       "      <th>length</th>\n",
       "    </tr>\n",
       "  </thead>\n",
       "  <tbody>\n",
       "    <tr>\n",
       "      <th>0</th>\n",
       "      <td>26</td>\n",
       "      <td>Ryan</td>\n",
       "      <td>Smith</td>\n",
       "      <td>M</td>\n",
       "      <td>San Jose-Sunnyvale-Santa Clara, CA</td>\n",
       "      <td>free</td>\n",
       "      <td>583</td>\n",
       "      <td>0</td>\n",
       "      <td>Harmonia</td>\n",
       "      <td>Sehr kosmisch</td>\n",
       "      <td>655.77751</td>\n",
       "    </tr>\n",
       "    <tr>\n",
       "      <th>1</th>\n",
       "      <td>26</td>\n",
       "      <td>Ryan</td>\n",
       "      <td>Smith</td>\n",
       "      <td>M</td>\n",
       "      <td>San Jose-Sunnyvale-Santa Clara, CA</td>\n",
       "      <td>free</td>\n",
       "      <td>583</td>\n",
       "      <td>1</td>\n",
       "      <td>The Prodigy</td>\n",
       "      <td>The Big Gundown</td>\n",
       "      <td>260.07465</td>\n",
       "    </tr>\n",
       "    <tr>\n",
       "      <th>2</th>\n",
       "      <td>26</td>\n",
       "      <td>Ryan</td>\n",
       "      <td>Smith</td>\n",
       "      <td>M</td>\n",
       "      <td>San Jose-Sunnyvale-Santa Clara, CA</td>\n",
       "      <td>free</td>\n",
       "      <td>583</td>\n",
       "      <td>2</td>\n",
       "      <td>Train</td>\n",
       "      <td>Marry Me</td>\n",
       "      <td>205.45261</td>\n",
       "    </tr>\n",
       "    <tr>\n",
       "      <th>5</th>\n",
       "      <td>61</td>\n",
       "      <td>Samuel</td>\n",
       "      <td>Gonzalez</td>\n",
       "      <td>M</td>\n",
       "      <td>Houston-The Woodlands-Sugar Land, TX</td>\n",
       "      <td>free</td>\n",
       "      <td>597</td>\n",
       "      <td>0</td>\n",
       "      <td>Sony Wonder</td>\n",
       "      <td>Blackbird</td>\n",
       "      <td>218.06975</td>\n",
       "    </tr>\n",
       "    <tr>\n",
       "      <th>9</th>\n",
       "      <td>80</td>\n",
       "      <td>Tegan</td>\n",
       "      <td>Levine</td>\n",
       "      <td>F</td>\n",
       "      <td>Portland-South Portland, ME</td>\n",
       "      <td>paid</td>\n",
       "      <td>602</td>\n",
       "      <td>2</td>\n",
       "      <td>Van Halen</td>\n",
       "      <td>Best Of Both Worlds (Remastered Album Version)</td>\n",
       "      <td>289.38404</td>\n",
       "    </tr>\n",
       "    <tr>\n",
       "      <th>...</th>\n",
       "      <td>...</td>\n",
       "      <td>...</td>\n",
       "      <td>...</td>\n",
       "      <td>...</td>\n",
       "      <td>...</td>\n",
       "      <td>...</td>\n",
       "      <td>...</td>\n",
       "      <td>...</td>\n",
       "      <td>...</td>\n",
       "      <td>...</td>\n",
       "      <td>...</td>\n",
       "    </tr>\n",
       "    <tr>\n",
       "      <th>382</th>\n",
       "      <td>16</td>\n",
       "      <td>Rylan</td>\n",
       "      <td>George</td>\n",
       "      <td>M</td>\n",
       "      <td>Birmingham-Hoover, AL</td>\n",
       "      <td>paid</td>\n",
       "      <td>1076</td>\n",
       "      <td>57</td>\n",
       "      <td>Foo Fighters</td>\n",
       "      <td>The Pretender</td>\n",
       "      <td>271.38567</td>\n",
       "    </tr>\n",
       "    <tr>\n",
       "      <th>383</th>\n",
       "      <td>16</td>\n",
       "      <td>Rylan</td>\n",
       "      <td>George</td>\n",
       "      <td>M</td>\n",
       "      <td>Birmingham-Hoover, AL</td>\n",
       "      <td>paid</td>\n",
       "      <td>1076</td>\n",
       "      <td>58</td>\n",
       "      <td>Timbiriche</td>\n",
       "      <td>Besos De Ceniza</td>\n",
       "      <td>202.60526</td>\n",
       "    </tr>\n",
       "    <tr>\n",
       "      <th>384</th>\n",
       "      <td>16</td>\n",
       "      <td>Rylan</td>\n",
       "      <td>George</td>\n",
       "      <td>M</td>\n",
       "      <td>Birmingham-Hoover, AL</td>\n",
       "      <td>paid</td>\n",
       "      <td>1076</td>\n",
       "      <td>59</td>\n",
       "      <td>A Perfect Circle</td>\n",
       "      <td>Rose</td>\n",
       "      <td>206.05342</td>\n",
       "    </tr>\n",
       "    <tr>\n",
       "      <th>385</th>\n",
       "      <td>16</td>\n",
       "      <td>Rylan</td>\n",
       "      <td>George</td>\n",
       "      <td>M</td>\n",
       "      <td>Birmingham-Hoover, AL</td>\n",
       "      <td>paid</td>\n",
       "      <td>1076</td>\n",
       "      <td>60</td>\n",
       "      <td>Anberlin</td>\n",
       "      <td>The Haunting</td>\n",
       "      <td>348.682</td>\n",
       "    </tr>\n",
       "    <tr>\n",
       "      <th>387</th>\n",
       "      <td>5</td>\n",
       "      <td>Elijah</td>\n",
       "      <td>Davis</td>\n",
       "      <td>M</td>\n",
       "      <td>Detroit-Warren-Dearborn, MI</td>\n",
       "      <td>free</td>\n",
       "      <td>985</td>\n",
       "      <td>0</td>\n",
       "      <td>Deas Vail</td>\n",
       "      <td>Anything You Say (Unreleased Version)</td>\n",
       "      <td>237.68771</td>\n",
       "    </tr>\n",
       "  </tbody>\n",
       "</table>\n",
       "<p>6820 rows × 11 columns</p>\n",
       "</div>"
      ],
      "text/plain": [
       "     userId firstName  lastName gender                              location  \\\n",
       "0        26      Ryan     Smith      M    San Jose-Sunnyvale-Santa Clara, CA   \n",
       "1        26      Ryan     Smith      M    San Jose-Sunnyvale-Santa Clara, CA   \n",
       "2        26      Ryan     Smith      M    San Jose-Sunnyvale-Santa Clara, CA   \n",
       "5        61    Samuel  Gonzalez      M  Houston-The Woodlands-Sugar Land, TX   \n",
       "9        80     Tegan    Levine      F           Portland-South Portland, ME   \n",
       "..      ...       ...       ...    ...                                   ...   \n",
       "382      16     Rylan    George      M                 Birmingham-Hoover, AL   \n",
       "383      16     Rylan    George      M                 Birmingham-Hoover, AL   \n",
       "384      16     Rylan    George      M                 Birmingham-Hoover, AL   \n",
       "385      16     Rylan    George      M                 Birmingham-Hoover, AL   \n",
       "387       5    Elijah     Davis      M           Detroit-Warren-Dearborn, MI   \n",
       "\n",
       "    level  sessionId  itemInSession            artist  \\\n",
       "0    free        583              0          Harmonia   \n",
       "1    free        583              1       The Prodigy   \n",
       "2    free        583              2             Train   \n",
       "5    free        597              0       Sony Wonder   \n",
       "9    paid        602              2         Van Halen   \n",
       "..    ...        ...            ...               ...   \n",
       "382  paid       1076             57      Foo Fighters   \n",
       "383  paid       1076             58        Timbiriche   \n",
       "384  paid       1076             59  A Perfect Circle   \n",
       "385  paid       1076             60          Anberlin   \n",
       "387  free        985              0         Deas Vail   \n",
       "\n",
       "                                               song     length  \n",
       "0                                     Sehr kosmisch  655.77751  \n",
       "1                                   The Big Gundown  260.07465  \n",
       "2                                          Marry Me  205.45261  \n",
       "5                                         Blackbird  218.06975  \n",
       "9    Best Of Both Worlds (Remastered Album Version)  289.38404  \n",
       "..                                              ...        ...  \n",
       "382                                   The Pretender  271.38567  \n",
       "383                                 Besos De Ceniza  202.60526  \n",
       "384                                            Rose  206.05342  \n",
       "385                                    The Haunting    348.682  \n",
       "387           Anything You Say (Unreleased Version)  237.68771  \n",
       "\n",
       "[6820 rows x 11 columns]"
      ]
     },
     "execution_count": 3,
     "metadata": {},
     "output_type": "execute_result"
    }
   ],
   "source": [
    "# Get relevant columns into one dataframe\n",
    "df = preprocess_data(RAW_DATA_PATH)\n",
    "selected_df = df[COLUMNS_TO_USE].dropna(subset=\"artist\").convert_dtypes({\"userId\": \"int32\"}) # Convert userId to int32\n",
    "selected_df"
   ]
  },
  {
   "cell_type": "code",
   "execution_count": 4,
   "metadata": {},
   "outputs": [],
   "source": [
    "# Save preprocessed data\n",
    "selected_df.to_csv(PREPROCESS_DATA_PATH / \"event_datafile_new.csv\", index=False)"
   ]
  },
  {
   "attachments": {},
   "cell_type": "markdown",
   "metadata": {},
   "source": [
    "## Part II: Complete the Apache Cassandra Coding Portion of Your Project\n",
    "\n",
    "### Introduction\n",
    "\n",
    "Cassandra is a No-SQL database or, more specifically, a key-value store.\n",
    "In order to setup the database, it makes sense to think of the use cases in terms of queries first. This helps to design the tables required to later perform the queries.\n",
    "\n",
    "Use cases:\n",
    "1. Give me the artist, song title and song's length in the music app history that was heard during  sessionId = 338, and itemInSession  = 4\n",
    "2. Give me only the following: name of artist, song (sorted by itemInSession) and user (first and last name) for userid = 10, sessionid = 182\n",
    "3. Give me every user name (first and last) in my music app history who listened to the song 'All Hands Against His Own'  \n",
    "\n",
    "This translates to the following queries:\n",
    "1. `SELECT artist, song, length FROM [database with appropriate structure] WHERE sessionId = 338 AND itemInSession = 4`\n",
    "2. `SELECT artist, song, firstName, lastName FROM [database with appropriate structure] WHERE userId = 10 AND sessionId = 182`\n",
    "3. `SELECT firstName, lastName FROM [database with appropriate structure] WHERE song = 'All Hands Against His Own'`\n",
    "\n",
    "Furthermore, we need to think about the ordering by `itemInSession` as requested by use case 2.\n",
    "\n",
    "As we'd like to perform `WHERE` clauses on then `sessionId`, `itemInSession`, `userId`, and `song` should be included in the respective primary keys.\n",
    "It seems likely that the combination of `sessionId` and `itemInSession` is unique for each row, as one can assume that these ids are generated especially to keep track of individual sessions."
   ]
  },
  {
   "cell_type": "code",
   "execution_count": 5,
   "metadata": {},
   "outputs": [
    {
     "data": {
      "text/plain": [
       "True"
      ]
     },
     "execution_count": 5,
     "metadata": {},
     "output_type": "execute_result"
    }
   ],
   "source": [
    "# Checking for uniqueness of sessionId and itemInSession\n",
    "selected_df[[\"sessionId\", \"itemInSession\"]].drop_duplicates().shape[0] == selected_df.shape[0]"
   ]
  },
  {
   "attachments": {},
   "cell_type": "markdown",
   "metadata": {},
   "source": [
    "Given this fact about our example data and the assumption above, we will always include `sessionId` and `itemInSession` in the primary key of the tables, if we are aiming to gather all data available. Of course, this can be negleted for databases we design for queries that are targeting for more \"filtered\" data like the in the third usecase."
   ]
  },
  {
   "attachments": {},
   "cell_type": "markdown",
   "metadata": {},
   "source": [
    "For designing the database and keep it performant for future scaling, we also should think about how to cluster our data by choosing the right partition key, whilst keeping in mind how we'd like to cluster our data."
   ]
  },
  {
   "attachments": {},
   "cell_type": "markdown",
   "metadata": {},
   "source": [
    "### Setup Cassandra Cluster And Keyspace\n",
    "#### Creating a Cluster"
   ]
  },
  {
   "cell_type": "code",
   "execution_count": 6,
   "metadata": {},
   "outputs": [],
   "source": [
    "# Connect to Cassandra on local machine (127.0.0.1)\n",
    "cluster = Cluster([\"127.0.0.1\"])\n",
    "\n",
    "# Establish connection and begin executing queries, need a session\n",
    "session = cluster.connect()"
   ]
  },
  {
   "cell_type": "markdown",
   "metadata": {},
   "source": [
    "#### Create Keyspace"
   ]
  },
  {
   "cell_type": "code",
   "execution_count": 7,
   "metadata": {},
   "outputs": [],
   "source": [
    "# Create a keyspace query \n",
    "try:\n",
    "    session.execute(\"\"\"\n",
    "    CREATE KEYSPACE IF NOT EXISTS sparkify\n",
    "    WITH REPLICATION = \n",
    "    { 'class' : 'SimpleStrategy', 'replication_factor' : 1 }\"\"\"\n",
    ")\n",
    "except Exception as e:\n",
    "    print(e)"
   ]
  },
  {
   "cell_type": "markdown",
   "metadata": {},
   "source": [
    "#### Set Keyspace"
   ]
  },
  {
   "cell_type": "code",
   "execution_count": 8,
   "metadata": {},
   "outputs": [],
   "source": [
    "# Set keyspace \n",
    "try:\n",
    "    session.set_keyspace('sparkify')\n",
    "except Exception as e:\n",
    "    print(e)"
   ]
  },
  {
   "attachments": {},
   "cell_type": "markdown",
   "metadata": {},
   "source": [
    "### Create queries for the three use cases\n",
    "\n",
    "#### Use Case 1 \n",
    "**Give me the artist, song title and song's length in the music app history that was heard during  sessionId = 338, and itemInSession  = 4**"
   ]
  },
  {
   "attachments": {},
   "cell_type": "markdown",
   "metadata": {},
   "source": [
    "##### Create Search Query"
   ]
  },
  {
   "cell_type": "code",
   "execution_count": 9,
   "metadata": {},
   "outputs": [
    {
     "name": "stdout",
     "output_type": "stream",
     "text": [
      "\n",
      "SELECT artist, song, length \n",
      "FROM artist_song_lenght_by_session_item_in_session \n",
      "WHERE sessionId = 338 AND itemInSession = 4\n",
      "\n"
     ]
    }
   ],
   "source": [
    "# Create table name for query\n",
    "database_1 = \"artist_song_lenght_by_session_item_in_session\"\n",
    "\n",
    "# Create search query\n",
    "query_1 = f'''\n",
    "SELECT artist, song, length \n",
    "FROM {database_1} \n",
    "WHERE sessionId = 338 AND itemInSession = 4\n",
    "'''\n",
    "\n",
    "# Print query\n",
    "print(query_1)"
   ]
  },
  {
   "attachments": {},
   "cell_type": "markdown",
   "metadata": {},
   "source": [
    "##### Create Table\n",
    "\n",
    "Given the search query, we should simply create a table with the following structure:\n",
    "- `sessionId` as partition key (assuming that this will create an even distribution of data when the sessionId is hashed)\n",
    "- `itemInSession` as clustering column (to sort the data by itemInSession)\n",
    "\n",
    "The (other) value columns are `artist`, `song`, and `length`."
   ]
  },
  {
   "cell_type": "code",
   "execution_count": 10,
   "metadata": {},
   "outputs": [
    {
     "name": "stdout",
     "output_type": "stream",
     "text": [
      "\n",
      "CREATE TABLE IF NOT EXISTS artist_song_lenght_by_session_item_in_session (\n",
      "    sessionId int, itemInSession int, artist text, song text, length float,\n",
      "    PRIMARY KEY ((sessionId), itemInSession)\n",
      ")\n",
      "\n"
     ]
    }
   ],
   "source": [
    "# Prepare creation query\n",
    "selection_attributes_1 = {\"artist\":\"text\", \"song\":\"text\", \"length\":\"float\"}\n",
    "partition_keys_1 = {\"sessionId\":\"int\"}\n",
    "clustering_keys_1 = {\"itemInSession\":\"int\"}\n",
    "\n",
    "relevant_columns_1_with_types = partition_keys_1 | clustering_keys_1 | selection_attributes_1\n",
    "\n",
    "creation_query_1 = f'''\n",
    "CREATE TABLE IF NOT EXISTS {database_1} (\n",
    "    {\", \".join([f\"{key} {value}\" for key, value in relevant_columns_1_with_types.items()])},\n",
    "    PRIMARY KEY (({\", \".join(partition_keys_1.keys())}), {\", \".join(clustering_keys_1.keys())})\n",
    ")\n",
    "'''\n",
    "\n",
    "# Print creation query\n",
    "print(creation_query_1)"
   ]
  },
  {
   "cell_type": "code",
   "execution_count": 11,
   "metadata": {},
   "outputs": [],
   "source": [
    "# Perform creation\n",
    "try:\n",
    "    session.execute(creation_query_1)\n",
    "except Exception as e:\n",
    "    print(e)"
   ]
  },
  {
   "attachments": {},
   "cell_type": "markdown",
   "metadata": {},
   "source": [
    "##### Insert Data"
   ]
  },
  {
   "cell_type": "code",
   "execution_count": 12,
   "metadata": {},
   "outputs": [
    {
     "data": {
      "text/html": [
       "<div>\n",
       "<style scoped>\n",
       "    .dataframe tbody tr th:only-of-type {\n",
       "        vertical-align: middle;\n",
       "    }\n",
       "\n",
       "    .dataframe tbody tr th {\n",
       "        vertical-align: top;\n",
       "    }\n",
       "\n",
       "    .dataframe thead th {\n",
       "        text-align: right;\n",
       "    }\n",
       "</style>\n",
       "<table border=\"1\" class=\"dataframe\">\n",
       "  <thead>\n",
       "    <tr style=\"text-align: right;\">\n",
       "      <th></th>\n",
       "      <th>sessionId</th>\n",
       "      <th>itemInSession</th>\n",
       "      <th>artist</th>\n",
       "      <th>song</th>\n",
       "      <th>length</th>\n",
       "    </tr>\n",
       "  </thead>\n",
       "  <tbody>\n",
       "    <tr>\n",
       "      <th>0</th>\n",
       "      <td>583</td>\n",
       "      <td>0</td>\n",
       "      <td>Harmonia</td>\n",
       "      <td>Sehr kosmisch</td>\n",
       "      <td>655.77751</td>\n",
       "    </tr>\n",
       "    <tr>\n",
       "      <th>1</th>\n",
       "      <td>583</td>\n",
       "      <td>1</td>\n",
       "      <td>The Prodigy</td>\n",
       "      <td>The Big Gundown</td>\n",
       "      <td>260.07465</td>\n",
       "    </tr>\n",
       "    <tr>\n",
       "      <th>2</th>\n",
       "      <td>583</td>\n",
       "      <td>2</td>\n",
       "      <td>Train</td>\n",
       "      <td>Marry Me</td>\n",
       "      <td>205.45261</td>\n",
       "    </tr>\n",
       "    <tr>\n",
       "      <th>5</th>\n",
       "      <td>597</td>\n",
       "      <td>0</td>\n",
       "      <td>Sony Wonder</td>\n",
       "      <td>Blackbird</td>\n",
       "      <td>218.06975</td>\n",
       "    </tr>\n",
       "    <tr>\n",
       "      <th>9</th>\n",
       "      <td>602</td>\n",
       "      <td>2</td>\n",
       "      <td>Van Halen</td>\n",
       "      <td>Best Of Both Worlds (Remastered Album Version)</td>\n",
       "      <td>289.38404</td>\n",
       "    </tr>\n",
       "  </tbody>\n",
       "</table>\n",
       "</div>"
      ],
      "text/plain": [
       "   sessionId  itemInSession       artist  \\\n",
       "0        583              0     Harmonia   \n",
       "1        583              1  The Prodigy   \n",
       "2        583              2        Train   \n",
       "5        597              0  Sony Wonder   \n",
       "9        602              2    Van Halen   \n",
       "\n",
       "                                             song     length  \n",
       "0                                   Sehr kosmisch  655.77751  \n",
       "1                                 The Big Gundown  260.07465  \n",
       "2                                        Marry Me  205.45261  \n",
       "5                                       Blackbird  218.06975  \n",
       "9  Best Of Both Worlds (Remastered Album Version)  289.38404  "
      ]
     },
     "execution_count": 12,
     "metadata": {},
     "output_type": "execute_result"
    }
   ],
   "source": [
    "# Select data to insert from selected_df\n",
    "relevant_columns_1 = [key for key in relevant_columns_1_with_types.keys()]\n",
    "selected_df_1 = selected_df[relevant_columns_1]\n",
    "\n",
    "# Print first 5 rows\n",
    "selected_df_1.head()"
   ]
  },
  {
   "cell_type": "code",
   "execution_count": 13,
   "metadata": {},
   "outputs": [
    {
     "name": "stdout",
     "output_type": "stream",
     "text": [
      "\n",
      "INSERT INTO artist_song_lenght_by_session_item_in_session (sessionId, itemInSession, artist, song, length)\n",
      "VALUES (%s, %s, %s, %s, %s)\n",
      "\n"
     ]
    }
   ],
   "source": [
    "# Create insert query\n",
    "insert_query_1 = f'''\n",
    "INSERT INTO {database_1} ({\", \".join(relevant_columns_1)})\n",
    "VALUES ({\", \".join([\"%s\" for _ in relevant_columns_1])})\n",
    "'''\n",
    "\n",
    "# Print insert query\n",
    "print(insert_query_1)"
   ]
  },
  {
   "cell_type": "code",
   "execution_count": 14,
   "metadata": {},
   "outputs": [],
   "source": [
    "# Insert data\n",
    "for _, series in selected_df_1.iterrows():\n",
    "    try:\n",
    "        session.execute(insert_query_1, tuple(series))\n",
    "    except Exception as e:\n",
    "        print(e)"
   ]
  },
  {
   "attachments": {},
   "cell_type": "markdown",
   "metadata": {},
   "source": [
    "##### Execute Search Query"
   ]
  },
  {
   "cell_type": "code",
   "execution_count": 15,
   "metadata": {},
   "outputs": [
    {
     "name": "stdout",
     "output_type": "stream",
     "text": [
      "Faithless Music Matters (Mark Knight Dub) 495.30731201171875\n"
     ]
    }
   ],
   "source": [
    "selection_cols_1 = [key for key in selection_attributes_1.keys()]\n",
    "\n",
    "try:\n",
    "    results = session.execute(query_1)\n",
    "except Exception as e:\n",
    "    print(e)\n",
    "\n",
    "for row in results:\n",
    "    row_as_string = \" \".join([str(getattr(row, item.lower())) for item in selection_cols_1])\n",
    "    print(row_as_string)"
   ]
  },
  {
   "attachments": {},
   "cell_type": "markdown",
   "metadata": {},
   "source": [
    "#### Check Against Expected Result from `select_df`"
   ]
  },
  {
   "cell_type": "code",
   "execution_count": 16,
   "metadata": {},
   "outputs": [
    {
     "data": {
      "text/html": [
       "<div>\n",
       "<style scoped>\n",
       "    .dataframe tbody tr th:only-of-type {\n",
       "        vertical-align: middle;\n",
       "    }\n",
       "\n",
       "    .dataframe tbody tr th {\n",
       "        vertical-align: top;\n",
       "    }\n",
       "\n",
       "    .dataframe thead th {\n",
       "        text-align: right;\n",
       "    }\n",
       "</style>\n",
       "<table border=\"1\" class=\"dataframe\">\n",
       "  <thead>\n",
       "    <tr style=\"text-align: right;\">\n",
       "      <th></th>\n",
       "      <th>artist</th>\n",
       "      <th>song</th>\n",
       "      <th>length</th>\n",
       "    </tr>\n",
       "  </thead>\n",
       "  <tbody>\n",
       "    <tr>\n",
       "      <th>54</th>\n",
       "      <td>Faithless</td>\n",
       "      <td>Music Matters (Mark Knight Dub)</td>\n",
       "      <td>495.3073</td>\n",
       "    </tr>\n",
       "  </tbody>\n",
       "</table>\n",
       "</div>"
      ],
      "text/plain": [
       "       artist                             song    length\n",
       "54  Faithless  Music Matters (Mark Knight Dub)  495.3073"
      ]
     },
     "execution_count": 16,
     "metadata": {},
     "output_type": "execute_result"
    }
   ],
   "source": [
    "selected_df.query(query_1.replace('\\n', ' ').split(\"WHERE\")[1].replace(\"AND\", \"and\").replace(\"=\", \"==\"))[selection_cols_1]"
   ]
  },
  {
   "attachments": {},
   "cell_type": "markdown",
   "metadata": {},
   "source": [
    "### Use Case 2\n",
    "**Give me only the following: name of artist, song (sorted by itemInSession) and user (first and last name) for userid = 10, sessionid = 182**\n",
    "\n",
    "##### Create Search Query"
   ]
  },
  {
   "cell_type": "code",
   "execution_count": 17,
   "metadata": {},
   "outputs": [
    {
     "name": "stdout",
     "output_type": "stream",
     "text": [
      "\n",
      "SELECT artist, song, firstName, lastName\n",
      "FROM artist_song_user_by_session_item_in_session\n",
      "WHERE userId = 10 AND sessionId = 182\n",
      "\n"
     ]
    }
   ],
   "source": [
    "# Create table name for query\n",
    "database_2 = \"artist_song_user_by_session_item_in_session\"\n",
    "\n",
    "# Create search query\n",
    "query_2 = f'''\n",
    "SELECT artist, song, firstName, lastName\n",
    "FROM {database_2}\n",
    "WHERE userId = 10 AND sessionId = 182\n",
    "'''\n",
    "\n",
    "# Print query\n",
    "print(query_2)"
   ]
  },
  {
   "attachments": {},
   "cell_type": "markdown",
   "metadata": {},
   "source": [
    "##### Create Table\n",
    "\n",
    "Given the search query, we should simply create a table with the following structure:\n",
    "- `userId`, and  `sessionId` as partition key (assuming that this will create an even distribution of data when the userId and sessionId is hashed)\n",
    "- `itemInSession` as clustering column (to sort the data by itemInSession)\n",
    "\n",
    "The (other) value columns are `artist`, `song`, `firstName`, and `lastName`."
   ]
  },
  {
   "cell_type": "code",
   "execution_count": 18,
   "metadata": {},
   "outputs": [
    {
     "name": "stdout",
     "output_type": "stream",
     "text": [
      "\n",
      "CREATE TABLE IF NOT EXISTS artist_song_user_by_session_item_in_session (\n",
      "    userId int, sessionId int, itemInSession int, artist text, song text, firstName text, lastName text,\n",
      "    PRIMARY KEY ((userId, sessionId), itemInSession)\n",
      ")\n",
      "\n"
     ]
    }
   ],
   "source": [
    "# Prepare creation query\n",
    "selection_attributes_2 = {\"artist\":\"text\", \"song\":\"text\", \"firstName\":\"text\", \"lastName\":\"text\"}\n",
    "partition_keys_2 = {\"userId\":\"int\", \"sessionId\":\"int\"}\n",
    "clustering_keys_2 = {\"itemInSession\":\"int\"}\n",
    "\n",
    "relevant_columns_2_with_types = partition_keys_2 | clustering_keys_2 | selection_attributes_2\n",
    "\n",
    "creation_query_2 = f'''\n",
    "CREATE TABLE IF NOT EXISTS {database_2} (\n",
    "    {\", \".join([f\"{key} {value}\" for key, value in relevant_columns_2_with_types.items()])},\n",
    "    PRIMARY KEY (({\", \".join(partition_keys_2.keys())}), {\", \".join(clustering_keys_2.keys())})\n",
    ")\n",
    "'''\n",
    "\n",
    "# Print creation query\n",
    "print(creation_query_2)\n"
   ]
  },
  {
   "cell_type": "code",
   "execution_count": 19,
   "metadata": {},
   "outputs": [],
   "source": [
    "# Perform creation\n",
    "try:\n",
    "    session.execute(creation_query_2)\n",
    "except Exception as e:\n",
    "    print(e)"
   ]
  },
  {
   "attachments": {},
   "cell_type": "markdown",
   "metadata": {},
   "source": [
    "#### Insert Data"
   ]
  },
  {
   "cell_type": "code",
   "execution_count": 20,
   "metadata": {},
   "outputs": [
    {
     "data": {
      "text/html": [
       "<div>\n",
       "<style scoped>\n",
       "    .dataframe tbody tr th:only-of-type {\n",
       "        vertical-align: middle;\n",
       "    }\n",
       "\n",
       "    .dataframe tbody tr th {\n",
       "        vertical-align: top;\n",
       "    }\n",
       "\n",
       "    .dataframe thead th {\n",
       "        text-align: right;\n",
       "    }\n",
       "</style>\n",
       "<table border=\"1\" class=\"dataframe\">\n",
       "  <thead>\n",
       "    <tr style=\"text-align: right;\">\n",
       "      <th></th>\n",
       "      <th>userId</th>\n",
       "      <th>sessionId</th>\n",
       "      <th>itemInSession</th>\n",
       "      <th>artist</th>\n",
       "      <th>song</th>\n",
       "      <th>firstName</th>\n",
       "      <th>lastName</th>\n",
       "    </tr>\n",
       "  </thead>\n",
       "  <tbody>\n",
       "    <tr>\n",
       "      <th>0</th>\n",
       "      <td>26</td>\n",
       "      <td>583</td>\n",
       "      <td>0</td>\n",
       "      <td>Harmonia</td>\n",
       "      <td>Sehr kosmisch</td>\n",
       "      <td>Ryan</td>\n",
       "      <td>Smith</td>\n",
       "    </tr>\n",
       "    <tr>\n",
       "      <th>1</th>\n",
       "      <td>26</td>\n",
       "      <td>583</td>\n",
       "      <td>1</td>\n",
       "      <td>The Prodigy</td>\n",
       "      <td>The Big Gundown</td>\n",
       "      <td>Ryan</td>\n",
       "      <td>Smith</td>\n",
       "    </tr>\n",
       "    <tr>\n",
       "      <th>2</th>\n",
       "      <td>26</td>\n",
       "      <td>583</td>\n",
       "      <td>2</td>\n",
       "      <td>Train</td>\n",
       "      <td>Marry Me</td>\n",
       "      <td>Ryan</td>\n",
       "      <td>Smith</td>\n",
       "    </tr>\n",
       "    <tr>\n",
       "      <th>5</th>\n",
       "      <td>61</td>\n",
       "      <td>597</td>\n",
       "      <td>0</td>\n",
       "      <td>Sony Wonder</td>\n",
       "      <td>Blackbird</td>\n",
       "      <td>Samuel</td>\n",
       "      <td>Gonzalez</td>\n",
       "    </tr>\n",
       "    <tr>\n",
       "      <th>9</th>\n",
       "      <td>80</td>\n",
       "      <td>602</td>\n",
       "      <td>2</td>\n",
       "      <td>Van Halen</td>\n",
       "      <td>Best Of Both Worlds (Remastered Album Version)</td>\n",
       "      <td>Tegan</td>\n",
       "      <td>Levine</td>\n",
       "    </tr>\n",
       "  </tbody>\n",
       "</table>\n",
       "</div>"
      ],
      "text/plain": [
       "   userId  sessionId  itemInSession       artist  \\\n",
       "0      26        583              0     Harmonia   \n",
       "1      26        583              1  The Prodigy   \n",
       "2      26        583              2        Train   \n",
       "5      61        597              0  Sony Wonder   \n",
       "9      80        602              2    Van Halen   \n",
       "\n",
       "                                             song firstName  lastName  \n",
       "0                                   Sehr kosmisch      Ryan     Smith  \n",
       "1                                 The Big Gundown      Ryan     Smith  \n",
       "2                                        Marry Me      Ryan     Smith  \n",
       "5                                       Blackbird    Samuel  Gonzalez  \n",
       "9  Best Of Both Worlds (Remastered Album Version)     Tegan    Levine  "
      ]
     },
     "execution_count": 20,
     "metadata": {},
     "output_type": "execute_result"
    }
   ],
   "source": [
    "# Select data to insert from selected_df\n",
    "relevant_columns_2 = [key for key in relevant_columns_2_with_types.keys()]\n",
    "selected_df_2 = selected_df[relevant_columns_2]\n",
    "\n",
    "# Print first 5 rows\n",
    "selected_df_2.head()"
   ]
  },
  {
   "cell_type": "code",
   "execution_count": 21,
   "metadata": {},
   "outputs": [
    {
     "name": "stdout",
     "output_type": "stream",
     "text": [
      "\n",
      "INSERT INTO artist_song_user_by_session_item_in_session (userId, sessionId, itemInSession, artist, song, firstName, lastName)\n",
      "VALUES (%s, %s, %s, %s, %s, %s, %s)\n",
      "\n"
     ]
    }
   ],
   "source": [
    "# Create insert query\n",
    "insert_query_2 = f'''\n",
    "INSERT INTO {database_2} ({\", \".join(relevant_columns_2)})\n",
    "VALUES ({\", \".join([\"%s\" for _ in relevant_columns_2])})\n",
    "'''\n",
    "\n",
    "# Print insert query\n",
    "print(insert_query_2)"
   ]
  },
  {
   "cell_type": "code",
   "execution_count": 22,
   "metadata": {},
   "outputs": [],
   "source": [
    "# Insert data\n",
    "for _, series in selected_df_2.iterrows():\n",
    "    try:\n",
    "        session.execute(insert_query_2, tuple(series))\n",
    "    except Exception as e:\n",
    "        print(e)"
   ]
  },
  {
   "attachments": {},
   "cell_type": "markdown",
   "metadata": {},
   "source": [
    "#### Execute Search Query"
   ]
  },
  {
   "cell_type": "code",
   "execution_count": 23,
   "metadata": {},
   "outputs": [
    {
     "name": "stdout",
     "output_type": "stream",
     "text": [
      "Down To The Bone Keep On Keepin' On Sylvie Cruz\n",
      "Three Drives Greece 2000 Sylvie Cruz\n",
      "Sebastien Tellier Kilometer Sylvie Cruz\n",
      "Lonnie Gordon Catch You Baby (Steve Pitron & Max Sanna Radio Edit) Sylvie Cruz\n"
     ]
    }
   ],
   "source": [
    "selection_cols_2 = [key for key in selection_attributes_2.keys()]\n",
    "\n",
    "try:\n",
    "    results = session.execute(query_2)\n",
    "except Exception as e:\n",
    "    print(e)\n",
    "\n",
    "for row in results:\n",
    "    row_as_string = \" \".join([str(getattr(row, item.lower())) for item in selection_cols_2])\n",
    "    print(row_as_string)"
   ]
  },
  {
   "attachments": {},
   "cell_type": "markdown",
   "metadata": {},
   "source": [
    "#### Check Against Expected Result from `select_df`"
   ]
  },
  {
   "cell_type": "code",
   "execution_count": 24,
   "metadata": {},
   "outputs": [
    {
     "data": {
      "text/html": [
       "<div>\n",
       "<style scoped>\n",
       "    .dataframe tbody tr th:only-of-type {\n",
       "        vertical-align: middle;\n",
       "    }\n",
       "\n",
       "    .dataframe tbody tr th {\n",
       "        vertical-align: top;\n",
       "    }\n",
       "\n",
       "    .dataframe thead th {\n",
       "        text-align: right;\n",
       "    }\n",
       "</style>\n",
       "<table border=\"1\" class=\"dataframe\">\n",
       "  <thead>\n",
       "    <tr style=\"text-align: right;\">\n",
       "      <th></th>\n",
       "      <th>artist</th>\n",
       "      <th>song</th>\n",
       "      <th>firstName</th>\n",
       "      <th>lastName</th>\n",
       "    </tr>\n",
       "  </thead>\n",
       "  <tbody>\n",
       "    <tr>\n",
       "      <th>155</th>\n",
       "      <td>Down To The Bone</td>\n",
       "      <td>Keep On Keepin' On</td>\n",
       "      <td>Sylvie</td>\n",
       "      <td>Cruz</td>\n",
       "    </tr>\n",
       "    <tr>\n",
       "      <th>156</th>\n",
       "      <td>Three Drives</td>\n",
       "      <td>Greece 2000</td>\n",
       "      <td>Sylvie</td>\n",
       "      <td>Cruz</td>\n",
       "    </tr>\n",
       "    <tr>\n",
       "      <th>158</th>\n",
       "      <td>Sebastien Tellier</td>\n",
       "      <td>Kilometer</td>\n",
       "      <td>Sylvie</td>\n",
       "      <td>Cruz</td>\n",
       "    </tr>\n",
       "    <tr>\n",
       "      <th>159</th>\n",
       "      <td>Lonnie Gordon</td>\n",
       "      <td>Catch You Baby (Steve Pitron &amp; Max Sanna Radio...</td>\n",
       "      <td>Sylvie</td>\n",
       "      <td>Cruz</td>\n",
       "    </tr>\n",
       "  </tbody>\n",
       "</table>\n",
       "</div>"
      ],
      "text/plain": [
       "                artist                                               song  \\\n",
       "155   Down To The Bone                                 Keep On Keepin' On   \n",
       "156       Three Drives                                        Greece 2000   \n",
       "158  Sebastien Tellier                                          Kilometer   \n",
       "159      Lonnie Gordon  Catch You Baby (Steve Pitron & Max Sanna Radio...   \n",
       "\n",
       "    firstName lastName  \n",
       "155    Sylvie     Cruz  \n",
       "156    Sylvie     Cruz  \n",
       "158    Sylvie     Cruz  \n",
       "159    Sylvie     Cruz  "
      ]
     },
     "execution_count": 24,
     "metadata": {},
     "output_type": "execute_result"
    }
   ],
   "source": [
    "selected_df.sort_values(by=\"itemInSession\").query(query_2.replace('\\n', ' ').split(\"WHERE\")[1].replace(\"AND\", \"and\").replace(\"=\", \"==\"))[selection_cols_2]"
   ]
  },
  {
   "attachments": {},
   "cell_type": "markdown",
   "metadata": {},
   "source": [
    "### Use Case 3\n",
    "**Give me every user name (first and last) in my music app history who listened to the song 'All Hands Against His Own'**\n",
    "\n",
    "##### Create Search Query"
   ]
  },
  {
   "cell_type": "code",
   "execution_count": 25,
   "metadata": {},
   "outputs": [
    {
     "name": "stdout",
     "output_type": "stream",
     "text": [
      "\n",
      "SELECT firstName, lastName\n",
      "FROM user_name_by_song\n",
      "WHERE song = 'All Hands Against His Own'\n",
      "\n"
     ]
    }
   ],
   "source": [
    "# Create table name for query\n",
    "database_3 = \"user_name_by_song\"\n",
    "\n",
    "# Create search query\n",
    "query_3 = f'''\n",
    "SELECT firstName, lastName\n",
    "FROM {database_3}\n",
    "WHERE song = 'All Hands Against His Own'\n",
    "'''\n",
    "\n",
    "# Print query\n",
    "print(query_3)"
   ]
  },
  {
   "attachments": {},
   "cell_type": "markdown",
   "metadata": {},
   "source": [
    "#### Create Table\n",
    "\n",
    "Given the search query, we should simply create a table with the following structure:\n",
    "- `song` as partition key. This may not create an total even distribution of data (e.g. some letters are more common than others), but it is a good start, and it will help to faster query for the songs.\n",
    "- `userId` as clustering columns (as we query for the userId) and also `sessionId` and `itemInSession` as clustering columns to really have a unique primary key for all the rows available (even if the query is IMHO not really designed reflecting this fact, but the first reviewer asked for it)."
   ]
  },
  {
   "cell_type": "code",
   "execution_count": 26,
   "metadata": {},
   "outputs": [
    {
     "name": "stdout",
     "output_type": "stream",
     "text": [
      "\n",
      "CREATE TABLE IF NOT EXISTS user_name_by_song (\n",
      "    song text, userId int, sessionId int, itemInSession int, firstName text, lastName text,\n",
      "    PRIMARY KEY ((song), userId, sessionId, itemInSession)\n",
      ")\n",
      "\n"
     ]
    }
   ],
   "source": [
    "# Prepare creation query\n",
    "selection_attributes_3 = {\"firstName\":\"text\", \"lastName\":\"text\"}\n",
    "partition_keys_3 = {\"song\":\"text\"}\n",
    "clustering_keys_3 = {\"userId\":\"int\", \"sessionId\":\"int\", \"itemInSession\":\"int\"}\n",
    "\n",
    "relevant_columns_3_with_types = partition_keys_3 | clustering_keys_3 | selection_attributes_3\n",
    "\n",
    "creation_query_3 = f'''\n",
    "CREATE TABLE IF NOT EXISTS {database_3} (\n",
    "    {\", \".join([f\"{key} {value}\" for key, value in relevant_columns_3_with_types.items()])},\n",
    "    PRIMARY KEY (({\", \".join(partition_keys_3.keys())}), {\", \".join(clustering_keys_3.keys())})\n",
    ")\n",
    "'''\n",
    "\n",
    "# Print creation query\n",
    "print(creation_query_3)"
   ]
  },
  {
   "cell_type": "code",
   "execution_count": 27,
   "metadata": {},
   "outputs": [],
   "source": [
    "# Create table\n",
    "try:\n",
    "    session.execute(creation_query_3)\n",
    "except Exception as e:\n",
    "    print(e)"
   ]
  },
  {
   "attachments": {},
   "cell_type": "markdown",
   "metadata": {},
   "source": [
    "#### Insert Data"
   ]
  },
  {
   "cell_type": "code",
   "execution_count": 28,
   "metadata": {},
   "outputs": [
    {
     "data": {
      "text/html": [
       "<div>\n",
       "<style scoped>\n",
       "    .dataframe tbody tr th:only-of-type {\n",
       "        vertical-align: middle;\n",
       "    }\n",
       "\n",
       "    .dataframe tbody tr th {\n",
       "        vertical-align: top;\n",
       "    }\n",
       "\n",
       "    .dataframe thead th {\n",
       "        text-align: right;\n",
       "    }\n",
       "</style>\n",
       "<table border=\"1\" class=\"dataframe\">\n",
       "  <thead>\n",
       "    <tr style=\"text-align: right;\">\n",
       "      <th></th>\n",
       "      <th>song</th>\n",
       "      <th>userId</th>\n",
       "      <th>sessionId</th>\n",
       "      <th>itemInSession</th>\n",
       "      <th>firstName</th>\n",
       "      <th>lastName</th>\n",
       "    </tr>\n",
       "  </thead>\n",
       "  <tbody>\n",
       "    <tr>\n",
       "      <th>0</th>\n",
       "      <td>Sehr kosmisch</td>\n",
       "      <td>26</td>\n",
       "      <td>583</td>\n",
       "      <td>0</td>\n",
       "      <td>Ryan</td>\n",
       "      <td>Smith</td>\n",
       "    </tr>\n",
       "    <tr>\n",
       "      <th>1</th>\n",
       "      <td>The Big Gundown</td>\n",
       "      <td>26</td>\n",
       "      <td>583</td>\n",
       "      <td>1</td>\n",
       "      <td>Ryan</td>\n",
       "      <td>Smith</td>\n",
       "    </tr>\n",
       "    <tr>\n",
       "      <th>2</th>\n",
       "      <td>Marry Me</td>\n",
       "      <td>26</td>\n",
       "      <td>583</td>\n",
       "      <td>2</td>\n",
       "      <td>Ryan</td>\n",
       "      <td>Smith</td>\n",
       "    </tr>\n",
       "    <tr>\n",
       "      <th>5</th>\n",
       "      <td>Blackbird</td>\n",
       "      <td>61</td>\n",
       "      <td>597</td>\n",
       "      <td>0</td>\n",
       "      <td>Samuel</td>\n",
       "      <td>Gonzalez</td>\n",
       "    </tr>\n",
       "    <tr>\n",
       "      <th>9</th>\n",
       "      <td>Best Of Both Worlds (Remastered Album Version)</td>\n",
       "      <td>80</td>\n",
       "      <td>602</td>\n",
       "      <td>2</td>\n",
       "      <td>Tegan</td>\n",
       "      <td>Levine</td>\n",
       "    </tr>\n",
       "  </tbody>\n",
       "</table>\n",
       "</div>"
      ],
      "text/plain": [
       "                                             song  userId  sessionId  \\\n",
       "0                                   Sehr kosmisch      26        583   \n",
       "1                                 The Big Gundown      26        583   \n",
       "2                                        Marry Me      26        583   \n",
       "5                                       Blackbird      61        597   \n",
       "9  Best Of Both Worlds (Remastered Album Version)      80        602   \n",
       "\n",
       "   itemInSession firstName  lastName  \n",
       "0              0      Ryan     Smith  \n",
       "1              1      Ryan     Smith  \n",
       "2              2      Ryan     Smith  \n",
       "5              0    Samuel  Gonzalez  \n",
       "9              2     Tegan    Levine  "
      ]
     },
     "execution_count": 28,
     "metadata": {},
     "output_type": "execute_result"
    }
   ],
   "source": [
    "# Select data to insert from selected_df\n",
    "relevant_columns_3 = [key for key in relevant_columns_3_with_types.keys()]\n",
    "selected_df_3 = selected_df[relevant_columns_3]\n",
    "\n",
    "# Print first 5 rows\n",
    "selected_df_3.head()"
   ]
  },
  {
   "cell_type": "code",
   "execution_count": 29,
   "metadata": {},
   "outputs": [
    {
     "name": "stdout",
     "output_type": "stream",
     "text": [
      "\n",
      "INSERT INTO user_name_by_song (song, userId, sessionId, itemInSession, firstName, lastName)\n",
      "VALUES (%s, %s, %s, %s, %s, %s)\n",
      "\n"
     ]
    }
   ],
   "source": [
    "# Create insert query\n",
    "insert_query_3 = f'''\n",
    "INSERT INTO {database_3} ({\", \".join(relevant_columns_3)})\n",
    "VALUES ({\", \".join([\"%s\" for _ in relevant_columns_3])})\n",
    "'''\n",
    "\n",
    "# Print insert query\n",
    "print(insert_query_3)"
   ]
  },
  {
   "cell_type": "code",
   "execution_count": 30,
   "metadata": {},
   "outputs": [],
   "source": [
    "# Insert data\n",
    "for _, series in selected_df_3.iterrows():\n",
    "    try:\n",
    "        session.execute(insert_query_3, tuple(series))\n",
    "    except Exception as e:\n",
    "        print(e)\n",
    "\n",
    "selection_cols_3 = [key for key in selection_attributes_3.keys()]"
   ]
  },
  {
   "attachments": {},
   "cell_type": "markdown",
   "metadata": {},
   "source": [
    "#### Execute Search Query"
   ]
  },
  {
   "cell_type": "code",
   "execution_count": 31,
   "metadata": {},
   "outputs": [
    {
     "name": "stdout",
     "output_type": "stream",
     "text": [
      "Jacqueline Lynch\n",
      "Tegan Levine\n",
      "Sara Johnson\n"
     ]
    }
   ],
   "source": [
    "try:\n",
    "    results = session.execute(query_3)\n",
    "except Exception as e:\n",
    "    print(e)\n",
    "\n",
    "for row in results:\n",
    "    row_as_string = \" \".join([str(getattr(row, item.lower())) for item in selection_cols_3])\n",
    "    print(row_as_string)"
   ]
  },
  {
   "attachments": {},
   "cell_type": "markdown",
   "metadata": {},
   "source": [
    " #### Check Against Expected Result from `select_df`"
   ]
  },
  {
   "cell_type": "code",
   "execution_count": 32,
   "metadata": {},
   "outputs": [
    {
     "data": {
      "text/html": [
       "<div>\n",
       "<style scoped>\n",
       "    .dataframe tbody tr th:only-of-type {\n",
       "        vertical-align: middle;\n",
       "    }\n",
       "\n",
       "    .dataframe tbody tr th {\n",
       "        vertical-align: top;\n",
       "    }\n",
       "\n",
       "    .dataframe thead th {\n",
       "        text-align: right;\n",
       "    }\n",
       "</style>\n",
       "<table border=\"1\" class=\"dataframe\">\n",
       "  <thead>\n",
       "    <tr style=\"text-align: right;\">\n",
       "      <th></th>\n",
       "      <th>firstName</th>\n",
       "      <th>lastName</th>\n",
       "    </tr>\n",
       "  </thead>\n",
       "  <tbody>\n",
       "    <tr>\n",
       "      <th>315</th>\n",
       "      <td>Jacqueline</td>\n",
       "      <td>Lynch</td>\n",
       "    </tr>\n",
       "    <tr>\n",
       "      <th>57</th>\n",
       "      <td>Sara</td>\n",
       "      <td>Johnson</td>\n",
       "    </tr>\n",
       "    <tr>\n",
       "      <th>100</th>\n",
       "      <td>Tegan</td>\n",
       "      <td>Levine</td>\n",
       "    </tr>\n",
       "  </tbody>\n",
       "</table>\n",
       "</div>"
      ],
      "text/plain": [
       "      firstName lastName\n",
       "315  Jacqueline    Lynch\n",
       "57         Sara  Johnson\n",
       "100       Tegan   Levine"
      ]
     },
     "execution_count": 32,
     "metadata": {},
     "output_type": "execute_result"
    }
   ],
   "source": [
    "selected_df.sort_values(by=[\"firstName\", \"lastName\"]).query(query_3.replace('\\n', ' ').split(\"WHERE\")[1].replace(\"AND\", \"and\").replace(\"=\", \"==\"))[selection_cols_3]"
   ]
  },
  {
   "attachments": {},
   "cell_type": "markdown",
   "metadata": {},
   "source": [
    "### Clean Up"
   ]
  },
  {
   "attachments": {},
   "cell_type": "markdown",
   "metadata": {},
   "source": [
    "#### Drop the tables before closing out the sessions"
   ]
  },
  {
   "cell_type": "code",
   "execution_count": 33,
   "metadata": {},
   "outputs": [],
   "source": [
    "## Drop the table before closing out the sessions\n",
    "try:\n",
    "    session.execute(f\"DROP TABLE IF EXISTS {database_1}\")\n",
    "except Exception as e:\n",
    "    print(e)\n",
    "\n",
    "try:\n",
    "    session.execute(f\"DROP TABLE IF EXISTS {database_2}\")\n",
    "except Exception as e:\n",
    "    print(e)\n",
    "\n",
    "try:\n",
    "    session.execute(f\"DROP TABLE IF EXISTS {database_3}\")\n",
    "except Exception as e:\n",
    "    print(e)"
   ]
  },
  {
   "attachments": {},
   "cell_type": "markdown",
   "metadata": {},
   "source": [
    "#### Close the session and cluster connection¶"
   ]
  },
  {
   "cell_type": "code",
   "execution_count": 34,
   "metadata": {},
   "outputs": [],
   "source": [
    "session.shutdown()\n",
    "cluster.shutdown()"
   ]
  }
 ],
 "metadata": {
  "kernelspec": {
   "display_name": "Python 3",
   "language": "python",
   "name": "python3"
  },
  "language_info": {
   "codemirror_mode": {
    "name": "ipython",
    "version": 3
   },
   "file_extension": ".py",
   "mimetype": "text/x-python",
   "name": "python",
   "nbconvert_exporter": "python",
   "pygments_lexer": "ipython3",
   "version": "3.11.1"
  }
 },
 "nbformat": 4,
 "nbformat_minor": 2
}
