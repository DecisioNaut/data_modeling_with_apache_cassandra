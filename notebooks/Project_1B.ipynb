{
 "cells": [
  {
   "attachments": {},
   "cell_type": "markdown",
   "metadata": {},
   "source": [
    "# Data Modeling With Apache Cassandra\n",
    "***A Project in Course of Udacity's Nano-Degree for Data Engineering With AWS***\n",
    "\n",
    "## The Task\n",
    "***As provided by Udacity***\n",
    "\n",
    "A startup called Sparkify wants to analyze the data they've been collecting on songs and user activity on their new music streaming app. The analysis team is particularly interested in understanding what songs users are listening to. Currently, there is no easy way to query the data to generate the results, since the data reside in a directory of CSV files on user activity on the app.  \n",
    "\n",
    "They'd like a data engineer to create an Apache Cassandra database which can create queries on song play data to answer the questions, and wish to bring you on the project. Your role is to create a database for this analysis. You'll be able to test your database by running queries given to you by the analytics team from Sparkify to create the results.  \n",
    "\n",
    "Specifically, they'd like you to create tables in Apache Cassandra to run the following queries:\n",
    "1. Give me the artist, song title and song's length in the music app history that was heard during  sessionId = 338, and itemInSession  = 4\n",
    "2. Give me only the following: name of artist, song (sorted by itemInSession) and user (first and last name) for userid = 10, sessionid = 182\n",
    "3. Give me every user name (first and last) in my music app history who listened to the song 'All Hands Against His Own'  \n",
    "\n",
    "Udacity splits the project in two parts:\n",
    "Part 1: ETL Pipeline for Pre-Processing the Files\n",
    "Part II. Complete the Apache Cassandra coding portion of your project.\n",
    "\n",
    "For the sake of the reviewer, I stick to this division."
   ]
  },
  {
   "cell_type": "code",
   "execution_count": 3,
   "metadata": {},
   "outputs": [
    {
     "name": "stdout",
     "output_type": "stream",
     "text": [
      "The autoreload extension is already loaded. To reload it, use:\n",
      "  %reload_ext autoreload\n"
     ]
    }
   ],
   "source": [
    "# Packages used\n",
    "# Standard packages\n",
    "from pathlib import Path\n",
    "\n",
    "# Third party packages\n",
    "import cassandra\n",
    "\n",
    "# Local packages\n",
    "from src.preprocessing import preprocess_data\n",
    "\n",
    "# Auto-reload local packages\n",
    "%load_ext autoreload"
   ]
  },
  {
   "attachments": {},
   "cell_type": "markdown",
   "metadata": {},
   "source": [
    "## Part I: ETL Pipeline for Pre-Processing the Files\n",
    "\n",
    "We need to join the data from the csv-files into a single file, which we can use for our database.  \n",
    "\n",
    "The target structure is given by Udacity through this image:  \n",
    "\n",
    "<img src=\"../images/image_event_datafile_new.jpg\">\n",
    "\n",
    "The folder `event_data` holds the data in csv-files from `2018-11-01-events.csv` to `2018-11-30-events.csv` containing the following data (highlighted with `*` the ones we need):\n",
    "- artist `*`\n",
    "- auth\n",
    "- firstName `*`\n",
    "- gender `*`\n",
    "- itemInSession `*`\n",
    "- lastName `*`\n",
    "- length `*`\n",
    "- level `*`\n",
    "- location `*`\n",
    "- method\n",
    "- page\n",
    "- registration\n",
    "- sessionId `*`\n",
    "- song `*`\n",
    "- status\n",
    "- ts\n",
    "- userId `*`\n",
    "\n",
    "Furthermore, `artist` should not be an empty string."
   ]
  },
  {
   "cell_type": "code",
   "execution_count": 4,
   "metadata": {},
   "outputs": [],
   "source": [
    "# Global variables\n",
    "RAW_DATA_PATH = Path(\"../data/event_data\")\n",
    "PREPROCESS_DATA_PATH = Path(\"../data/preprocessed_data\")\n",
    "COLUMNS_TO_USE = [\"artist\", \"firstName\", \"gender\", \"itemInSession\", \"lastName\", \"length\", \"level\", \"location\", \"sessionId\", \"song\", \"userId\"]"
   ]
  },
  {
   "cell_type": "code",
   "execution_count": 15,
   "metadata": {},
   "outputs": [
    {
     "data": {
      "text/html": [
       "<div>\n",
       "<style scoped>\n",
       "    .dataframe tbody tr th:only-of-type {\n",
       "        vertical-align: middle;\n",
       "    }\n",
       "\n",
       "    .dataframe tbody tr th {\n",
       "        vertical-align: top;\n",
       "    }\n",
       "\n",
       "    .dataframe thead th {\n",
       "        text-align: right;\n",
       "    }\n",
       "</style>\n",
       "<table border=\"1\" class=\"dataframe\">\n",
       "  <thead>\n",
       "    <tr style=\"text-align: right;\">\n",
       "      <th></th>\n",
       "      <th>artist</th>\n",
       "      <th>firstName</th>\n",
       "      <th>gender</th>\n",
       "      <th>itemInSession</th>\n",
       "      <th>lastName</th>\n",
       "      <th>length</th>\n",
       "      <th>level</th>\n",
       "      <th>location</th>\n",
       "      <th>sessionId</th>\n",
       "      <th>song</th>\n",
       "      <th>userId</th>\n",
       "    </tr>\n",
       "  </thead>\n",
       "  <tbody>\n",
       "    <tr>\n",
       "      <th>0</th>\n",
       "      <td>Harmonia</td>\n",
       "      <td>Ryan</td>\n",
       "      <td>M</td>\n",
       "      <td>0</td>\n",
       "      <td>Smith</td>\n",
       "      <td>655.77751</td>\n",
       "      <td>free</td>\n",
       "      <td>San Jose-Sunnyvale-Santa Clara, CA</td>\n",
       "      <td>583</td>\n",
       "      <td>Sehr kosmisch</td>\n",
       "      <td>26.0</td>\n",
       "    </tr>\n",
       "    <tr>\n",
       "      <th>1</th>\n",
       "      <td>The Prodigy</td>\n",
       "      <td>Ryan</td>\n",
       "      <td>M</td>\n",
       "      <td>1</td>\n",
       "      <td>Smith</td>\n",
       "      <td>260.07465</td>\n",
       "      <td>free</td>\n",
       "      <td>San Jose-Sunnyvale-Santa Clara, CA</td>\n",
       "      <td>583</td>\n",
       "      <td>The Big Gundown</td>\n",
       "      <td>26.0</td>\n",
       "    </tr>\n",
       "    <tr>\n",
       "      <th>2</th>\n",
       "      <td>Train</td>\n",
       "      <td>Ryan</td>\n",
       "      <td>M</td>\n",
       "      <td>2</td>\n",
       "      <td>Smith</td>\n",
       "      <td>205.45261</td>\n",
       "      <td>free</td>\n",
       "      <td>San Jose-Sunnyvale-Santa Clara, CA</td>\n",
       "      <td>583</td>\n",
       "      <td>Marry Me</td>\n",
       "      <td>26.0</td>\n",
       "    </tr>\n",
       "    <tr>\n",
       "      <th>5</th>\n",
       "      <td>Sony Wonder</td>\n",
       "      <td>Samuel</td>\n",
       "      <td>M</td>\n",
       "      <td>0</td>\n",
       "      <td>Gonzalez</td>\n",
       "      <td>218.06975</td>\n",
       "      <td>free</td>\n",
       "      <td>Houston-The Woodlands-Sugar Land, TX</td>\n",
       "      <td>597</td>\n",
       "      <td>Blackbird</td>\n",
       "      <td>61.0</td>\n",
       "    </tr>\n",
       "    <tr>\n",
       "      <th>9</th>\n",
       "      <td>Van Halen</td>\n",
       "      <td>Tegan</td>\n",
       "      <td>F</td>\n",
       "      <td>2</td>\n",
       "      <td>Levine</td>\n",
       "      <td>289.38404</td>\n",
       "      <td>paid</td>\n",
       "      <td>Portland-South Portland, ME</td>\n",
       "      <td>602</td>\n",
       "      <td>Best Of Both Worlds (Remastered Album Version)</td>\n",
       "      <td>80.0</td>\n",
       "    </tr>\n",
       "    <tr>\n",
       "      <th>...</th>\n",
       "      <td>...</td>\n",
       "      <td>...</td>\n",
       "      <td>...</td>\n",
       "      <td>...</td>\n",
       "      <td>...</td>\n",
       "      <td>...</td>\n",
       "      <td>...</td>\n",
       "      <td>...</td>\n",
       "      <td>...</td>\n",
       "      <td>...</td>\n",
       "      <td>...</td>\n",
       "    </tr>\n",
       "    <tr>\n",
       "      <th>382</th>\n",
       "      <td>Foo Fighters</td>\n",
       "      <td>Rylan</td>\n",
       "      <td>M</td>\n",
       "      <td>57</td>\n",
       "      <td>George</td>\n",
       "      <td>271.38567</td>\n",
       "      <td>paid</td>\n",
       "      <td>Birmingham-Hoover, AL</td>\n",
       "      <td>1076</td>\n",
       "      <td>The Pretender</td>\n",
       "      <td>16.0</td>\n",
       "    </tr>\n",
       "    <tr>\n",
       "      <th>383</th>\n",
       "      <td>Timbiriche</td>\n",
       "      <td>Rylan</td>\n",
       "      <td>M</td>\n",
       "      <td>58</td>\n",
       "      <td>George</td>\n",
       "      <td>202.60526</td>\n",
       "      <td>paid</td>\n",
       "      <td>Birmingham-Hoover, AL</td>\n",
       "      <td>1076</td>\n",
       "      <td>Besos De Ceniza</td>\n",
       "      <td>16.0</td>\n",
       "    </tr>\n",
       "    <tr>\n",
       "      <th>384</th>\n",
       "      <td>A Perfect Circle</td>\n",
       "      <td>Rylan</td>\n",
       "      <td>M</td>\n",
       "      <td>59</td>\n",
       "      <td>George</td>\n",
       "      <td>206.05342</td>\n",
       "      <td>paid</td>\n",
       "      <td>Birmingham-Hoover, AL</td>\n",
       "      <td>1076</td>\n",
       "      <td>Rose</td>\n",
       "      <td>16.0</td>\n",
       "    </tr>\n",
       "    <tr>\n",
       "      <th>385</th>\n",
       "      <td>Anberlin</td>\n",
       "      <td>Rylan</td>\n",
       "      <td>M</td>\n",
       "      <td>60</td>\n",
       "      <td>George</td>\n",
       "      <td>348.68200</td>\n",
       "      <td>paid</td>\n",
       "      <td>Birmingham-Hoover, AL</td>\n",
       "      <td>1076</td>\n",
       "      <td>The Haunting</td>\n",
       "      <td>16.0</td>\n",
       "    </tr>\n",
       "    <tr>\n",
       "      <th>387</th>\n",
       "      <td>Deas Vail</td>\n",
       "      <td>Elijah</td>\n",
       "      <td>M</td>\n",
       "      <td>0</td>\n",
       "      <td>Davis</td>\n",
       "      <td>237.68771</td>\n",
       "      <td>free</td>\n",
       "      <td>Detroit-Warren-Dearborn, MI</td>\n",
       "      <td>985</td>\n",
       "      <td>Anything You Say (Unreleased Version)</td>\n",
       "      <td>5.0</td>\n",
       "    </tr>\n",
       "  </tbody>\n",
       "</table>\n",
       "<p>6820 rows × 11 columns</p>\n",
       "</div>"
      ],
      "text/plain": [
       "               artist firstName gender  itemInSession  lastName     length  \\\n",
       "0            Harmonia      Ryan      M              0     Smith  655.77751   \n",
       "1         The Prodigy      Ryan      M              1     Smith  260.07465   \n",
       "2               Train      Ryan      M              2     Smith  205.45261   \n",
       "5         Sony Wonder    Samuel      M              0  Gonzalez  218.06975   \n",
       "9           Van Halen     Tegan      F              2    Levine  289.38404   \n",
       "..                ...       ...    ...            ...       ...        ...   \n",
       "382      Foo Fighters     Rylan      M             57    George  271.38567   \n",
       "383        Timbiriche     Rylan      M             58    George  202.60526   \n",
       "384  A Perfect Circle     Rylan      M             59    George  206.05342   \n",
       "385          Anberlin     Rylan      M             60    George  348.68200   \n",
       "387         Deas Vail    Elijah      M              0     Davis  237.68771   \n",
       "\n",
       "    level                              location  sessionId  \\\n",
       "0    free    San Jose-Sunnyvale-Santa Clara, CA        583   \n",
       "1    free    San Jose-Sunnyvale-Santa Clara, CA        583   \n",
       "2    free    San Jose-Sunnyvale-Santa Clara, CA        583   \n",
       "5    free  Houston-The Woodlands-Sugar Land, TX        597   \n",
       "9    paid           Portland-South Portland, ME        602   \n",
       "..    ...                                   ...        ...   \n",
       "382  paid                 Birmingham-Hoover, AL       1076   \n",
       "383  paid                 Birmingham-Hoover, AL       1076   \n",
       "384  paid                 Birmingham-Hoover, AL       1076   \n",
       "385  paid                 Birmingham-Hoover, AL       1076   \n",
       "387  free           Detroit-Warren-Dearborn, MI        985   \n",
       "\n",
       "                                               song  userId  \n",
       "0                                     Sehr kosmisch    26.0  \n",
       "1                                   The Big Gundown    26.0  \n",
       "2                                          Marry Me    26.0  \n",
       "5                                         Blackbird    61.0  \n",
       "9    Best Of Both Worlds (Remastered Album Version)    80.0  \n",
       "..                                              ...     ...  \n",
       "382                                   The Pretender    16.0  \n",
       "383                                 Besos De Ceniza    16.0  \n",
       "384                                            Rose    16.0  \n",
       "385                                    The Haunting    16.0  \n",
       "387           Anything You Say (Unreleased Version)     5.0  \n",
       "\n",
       "[6820 rows x 11 columns]"
      ]
     },
     "execution_count": 15,
     "metadata": {},
     "output_type": "execute_result"
    }
   ],
   "source": [
    "# Get relevant columns into one dataframe\n",
    "df = preprocess_data(RAW_DATA_PATH)\n",
    "selected_df = df[COLUMNS_TO_USE].dropna(subset=\"artist\")\n",
    "selected_df"
   ]
  },
  {
   "cell_type": "code",
   "execution_count": 14,
   "metadata": {},
   "outputs": [],
   "source": [
    "# Save preprocessed data\n",
    "selected_df.to_csv(PREPROCESS_DATA_PATH / \"event_datafile_new.csv\", index=False)"
   ]
  },
  {
   "attachments": {},
   "cell_type": "markdown",
   "metadata": {},
   "source": [
    "## Part II: Complete the Apache Cassandra Coding Portion of Your Project\n",
    "\n",
    "Cassandra is a No-SQL database or, more specifically, a key-value store.\n",
    "In order to setup the database, it makes sense to think of the use cases in terms of queries first. This helps to design the tables required to later perform the queries.\n",
    "\n",
    "Use cases:\n",
    "1. Give me the artist, song title and song's length in the music app history that was heard during  sessionId = 338, and itemInSession  = 4\n",
    "2. Give me only the following: name of artist, song (sorted by itemInSession) and user (first and last name) for userid = 10, sessionid = 182\n",
    "3. Give me every user name (first and last) in my music app history who listened to the song 'All Hands Against His Own'  \n",
    "\n",
    "This translates to the following queries:\n",
    "1. `SELECT artist, song, length FROM music_app_history WHERE sessionId = 338 AND itemInSession = 4`\n",
    "2. `SELECT artist, song, firstName, lastName FROM music_app_history WHERE userId = 10 AND sessionId = 182`\n",
    "3. `SELECT firstName, lastName FROM music_app_history WHERE song = 'All Hands Against His Own'`\n",
    "\n",
    "Furthermore, we need to think about the ordering by `itemInSession` as requested by use case 2."
   ]
  },
  {
   "cell_type": "markdown",
   "metadata": {},
   "source": [
    "#### Creating a Cluster"
   ]
  },
  {
   "cell_type": "code",
   "execution_count": 6,
   "metadata": {},
   "outputs": [],
   "source": [
    "# This should make a connection to a Cassandra instance your local machine \n",
    "# (127.0.0.1)\n",
    "\n",
    "from cassandra.cluster import Cluster\n",
    "cluster = Cluster([\"127.0.0.1\"])\n",
    "\n",
    "# To establish connection and begin executing queries, need a session\n",
    "session = cluster.connect()"
   ]
  },
  {
   "cell_type": "markdown",
   "metadata": {},
   "source": [
    "#### Create Keyspace"
   ]
  },
  {
   "cell_type": "code",
   "execution_count": null,
   "metadata": {},
   "outputs": [],
   "source": [
    "# TO-DO: Create a Keyspace "
   ]
  },
  {
   "cell_type": "markdown",
   "metadata": {},
   "source": [
    "#### Set Keyspace"
   ]
  },
  {
   "cell_type": "code",
   "execution_count": null,
   "metadata": {},
   "outputs": [],
   "source": [
    "# TO-DO: Set KEYSPACE to the keyspace specified above\n"
   ]
  },
  {
   "cell_type": "markdown",
   "metadata": {},
   "source": [
    "### Now we need to create tables to run the following queries. Remember, with Apache Cassandra you model the database tables on the queries you want to run."
   ]
  },
  {
   "cell_type": "markdown",
   "metadata": {},
   "source": [
    "## Create queries to ask the following three questions of the data\n",
    "\n",
    "### 1. Give me the artist, song title and song's length in the music app history that was heard during  sessionId = 338, and itemInSession  = 4\n",
    "\n",
    "\n",
    "### 2. Give me only the following: name of artist, song (sorted by itemInSession) and user (first and last name) for userid = 10, sessionid = 182\n",
    "    \n",
    "\n",
    "### 3. Give me every user name (first and last) in my music app history who listened to the song 'All Hands Against His Own'\n",
    "\n",
    "\n"
   ]
  },
  {
   "cell_type": "code",
   "execution_count": 1,
   "metadata": {},
   "outputs": [],
   "source": [
    "## TO-DO: Query 1:  Give me the artist, song title and song's length in the music app history that was heard during \\\n",
    "## sessionId = 338, and itemInSession = 4\n",
    "\n",
    "\n",
    "                    "
   ]
  },
  {
   "cell_type": "code",
   "execution_count": null,
   "metadata": {
    "scrolled": false
   },
   "outputs": [],
   "source": [
    "# We have provided part of the code to set up the CSV file. Please complete the Apache Cassandra code below#\n",
    "file = 'event_datafile_new.csv'\n",
    "\n",
    "with open(file, encoding = 'utf8') as f:\n",
    "    csvreader = csv.reader(f)\n",
    "    next(csvreader) # skip header\n",
    "    for line in csvreader:\n",
    "## TO-DO: Assign the INSERT statements into the `query` variable\n",
    "        query = \"<ENTER INSERT STATEMENT HERE>\"\n",
    "        query = query + \"<ASSIGN VALUES HERE>\"\n",
    "        ## TO-DO: Assign which column element should be assigned for each column in the INSERT statement.\n",
    "        ## For e.g., to INSERT artist_name and user first_name, you would change the code below to `line[0], line[1]`\n",
    "        session.execute(query, (line[#], line[#]))"
   ]
  },
  {
   "cell_type": "markdown",
   "metadata": {},
   "source": [
    "#### Do a SELECT to verify that the data have been inserted into each table"
   ]
  },
  {
   "cell_type": "code",
   "execution_count": null,
   "metadata": {
    "scrolled": true
   },
   "outputs": [],
   "source": [
    "## TO-DO: Add in the SELECT statement to verify the data was entered into the table"
   ]
  },
  {
   "cell_type": "markdown",
   "metadata": {},
   "source": [
    "### COPY AND REPEAT THE ABOVE THREE CELLS FOR EACH OF THE THREE QUESTIONS"
   ]
  },
  {
   "cell_type": "code",
   "execution_count": null,
   "metadata": {},
   "outputs": [],
   "source": [
    "## TO-DO: Query 2: Give me only the following: name of artist, song (sorted by itemInSession) and user (first and last name)\\\n",
    "## for userid = 10, sessionid = 182\n",
    "\n",
    "\n",
    "                    "
   ]
  },
  {
   "cell_type": "code",
   "execution_count": null,
   "metadata": {},
   "outputs": [],
   "source": [
    "## TO-DO: Query 3: Give me every user name (first and last) in my music app history who listened to the song 'All Hands Against His Own'\n",
    "\n",
    "\n",
    "                    "
   ]
  },
  {
   "cell_type": "code",
   "execution_count": null,
   "metadata": {},
   "outputs": [],
   "source": []
  },
  {
   "cell_type": "code",
   "execution_count": null,
   "metadata": {},
   "outputs": [],
   "source": []
  },
  {
   "cell_type": "markdown",
   "metadata": {},
   "source": [
    "### Drop the tables before closing out the sessions"
   ]
  },
  {
   "cell_type": "code",
   "execution_count": 4,
   "metadata": {},
   "outputs": [],
   "source": [
    "## TO-DO: Drop the table before closing out the sessions"
   ]
  },
  {
   "cell_type": "code",
   "execution_count": null,
   "metadata": {},
   "outputs": [],
   "source": []
  },
  {
   "cell_type": "markdown",
   "metadata": {},
   "source": [
    "### Close the session and cluster connection¶"
   ]
  },
  {
   "cell_type": "code",
   "execution_count": null,
   "metadata": {},
   "outputs": [],
   "source": [
    "session.shutdown()\n",
    "cluster.shutdown()"
   ]
  },
  {
   "cell_type": "code",
   "execution_count": null,
   "metadata": {},
   "outputs": [],
   "source": []
  },
  {
   "cell_type": "code",
   "execution_count": null,
   "metadata": {},
   "outputs": [],
   "source": []
  }
 ],
 "metadata": {
  "kernelspec": {
   "display_name": "Python 3",
   "language": "python",
   "name": "python3"
  },
  "language_info": {
   "codemirror_mode": {
    "name": "ipython",
    "version": 3
   },
   "file_extension": ".py",
   "mimetype": "text/x-python",
   "name": "python",
   "nbconvert_exporter": "python",
   "pygments_lexer": "ipython3",
   "version": "3.11.1"
  }
 },
 "nbformat": 4,
 "nbformat_minor": 2
}
